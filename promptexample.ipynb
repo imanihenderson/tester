{
 "cells": [
  {
   "cell_type": "code",
   "execution_count": null,
   "id": "67e2f501",
   "metadata": {},
   "outputs": [],
   "source": [
    "def build_prompt(item):\n",
    "    # item = dict with keys matching csv columns\n",
    "    parts = []\n",
    "    \n",
    "    # optional fields incase of missing data in some rows \n",
    "    if item.get(\"Title\"):\n",
    "        parts.append(f\"{item['Title']}\")\n",
    "    if item.get(\"Category\"):\n",
    "        parts.append(f\"{item['Category'].lower()}\")\n",
    "    if item.get(\"Culture\"):\n",
    "        parts.append(f\"from {item['Culture']}\")\n",
    "    if item.get(\"Location\"):\n",
    "        parts.append(f\"originating in {item['Location']}\")\n",
    "    if item.get(\"Dates\"):\n",
    "        parts.append(f\"dated {item['Dates']}\")\n",
    "    if item.get(\"Material and Techniques\"):\n",
    "        parts.append(f\"made of {item['Material and Techniques'].lower()}\")\n",
    "    \n",
    "    description = \", \".join(parts)\n",
    "\n",
    "    # wrap in CLIP-style sentence to be used as prompt \n",
    "    prompt = f\"A museum artifact: {description}.\"\n",
    "    return prompt"
   ]
  }
 ],
 "metadata": {
  "language_info": {
   "name": "python"
  }
 },
 "nbformat": 4,
 "nbformat_minor": 5
}
